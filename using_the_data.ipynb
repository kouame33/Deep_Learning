{
 "cells": [
  {
   "cell_type": "code",
   "execution_count": 1,
   "metadata": {},
   "outputs": [],
   "source": [
    "import numpy as np\n",
    "\n",
    "%matplotlib inline\n",
    "import matplotlib.pyplot as plt"
   ]
  },
  {
   "cell_type": "markdown",
   "metadata": {},
   "source": [
    "# Load data"
   ]
  },
  {
   "cell_type": "code",
   "execution_count": 2,
   "metadata": {},
   "outputs": [
    {
     "name": "stdout",
     "output_type": "stream",
     "text": [
      "['data', 'freq', 'params']\n"
     ]
    }
   ],
   "source": [
    "mydata = np.load('data_ML_Nfreq100_Nbeta20_Nlambda20.npz',allow_pickle=True)\n",
    "print(mydata.files)"
   ]
  },
  {
   "cell_type": "code",
   "execution_count": 3,
   "metadata": {},
   "outputs": [],
   "source": [
    "data = mydata['data']\n",
    "freq = mydata['freq']\n",
    "params = mydata['params']"
   ]
  },
  {
   "cell_type": "code",
   "execution_count": 4,
   "metadata": {},
   "outputs": [
    {
     "data": {
      "text/plain": [
       "(40000, 256)"
      ]
     },
     "execution_count": 4,
     "metadata": {},
     "output_type": "execute_result"
    }
   ],
   "source": [
    "freq.shape"
   ]
  },
  {
   "cell_type": "code",
   "execution_count": 5,
   "metadata": {},
   "outputs": [
    {
     "data": {
      "text/plain": [
       "(40000, 256, 3)"
      ]
     },
     "execution_count": 5,
     "metadata": {},
     "output_type": "execute_result"
    }
   ],
   "source": [
    "data.shape"
   ]
  },
  {
   "cell_type": "markdown",
   "metadata": {},
   "source": [
    "#### same interval"
   ]
  },
  {
   "cell_type": "code",
   "execution_count": 6,
   "metadata": {},
   "outputs": [],
   "source": [
    "\n",
    "fr=list(freq[0:40000,:])\n",
    "frT=np.asarray(fr)\n",
    "#frTB=frT.flatten()\n",
    "freqBT=np.sort(frT)\n",
    "freqBT_unique=np.unique(freqBT)\n",
    "\n",
    "data1R=np.zeros((40000,freqBT_unique.shape[0],3))\n",
    "data1I=np.zeros((40000,freqBT_unique.shape[0],3))\n",
    "I=np.arange(0,40000,400)\n",
    "K=np.arange(256,freqBT_unique.shape[0])\n",
    "J=np.arange(freqBT_unique.shape[0]-256)\n",
    "for i,j,k in zip(I,J,K):\n",
    "    data1R[i:(i+400),j:k,:]=np.real(data[i:(i+400),:,:])\n",
    "    data1I[i:(i+400),j:k,:]=np.imag(data[i:(i+400),:,:])\n"
   ]
  },
  {
   "cell_type": "code",
   "execution_count": 7,
   "metadata": {},
   "outputs": [],
   "source": [
    "# mettre toutes les formes d'ondes  sur la même bande de fréquences\n",
    "def SameInt(data1R,data1I):\n",
    "    return np.asarray([u+1j*v for u,v in zip(data1R,data1I)])"
   ]
  },
  {
   "cell_type": "code",
   "execution_count": 8,
   "metadata": {},
   "outputs": [
    {
     "data": {
      "text/plain": [
       "(40000, 2827, 3)"
      ]
     },
     "execution_count": 8,
     "metadata": {},
     "output_type": "execute_result"
    }
   ],
   "source": [
    "data1=SameInt(data1R[:,:,:],data1I[:,:,:])\n",
    "data1.shape"
   ]
  },
  {
   "cell_type": "code",
   "execution_count": 9,
   "metadata": {},
   "outputs": [
    {
     "data": {
      "text/plain": [
       "array([1.57502989e-26+6.94253168e-27j, 1.56673787e-26+7.13709609e-27j,\n",
       "       1.55844074e-26+7.33176966e-27j, ...,\n",
       "       0.00000000e+00+0.00000000e+00j, 0.00000000e+00+0.00000000e+00j,\n",
       "       0.00000000e+00+0.00000000e+00j])"
      ]
     },
     "execution_count": 9,
     "metadata": {},
     "output_type": "execute_result"
    }
   ],
   "source": [
    "# verification ( des zéros après la 256 ième fréquence pour FO 0)\n",
    "data1[0,:,0]"
   ]
  },
  {
   "cell_type": "markdown",
   "metadata": {},
   "source": [
    "#### Normalisation"
   ]
  },
  {
   "cell_type": "code",
   "execution_count": 11,
   "metadata": {
    "scrolled": false
   },
   "outputs": [],
   "source": [
    "# cette fonction normalise seulement une forme d'onde pour un canal \"X\",\"Y\",\"Z\"\n",
    "def normalize(data1,n,e):\n",
    "# n nombre de FO, e nombre de canal\n",
    "    \n",
    "    return np.asarray([data1[n,i,e]/np.linalg.norm(data1[n,:,e]) for i in range(data1.shape[1])])\n",
    "\n",
    "# return un tableau contenant chaque forme d'onde normalisée"
   ]
  },
  {
   "cell_type": "code",
   "execution_count": 124,
   "metadata": {},
   "outputs": [
    {
     "data": {
      "text/plain": [
       "array([0.00258263-0.00339323j, 0.00262286-0.00335954j,\n",
       "       0.00266306-0.00332589j, ..., 0.        +0.j        ,\n",
       "       0.        +0.j        , 0.        +0.j        ])"
      ]
     },
     "execution_count": 124,
     "metadata": {},
     "output_type": "execute_result"
    }
   ],
   "source": [
    "dat1=normalize(data1,10,1)\n",
    "dat1"
   ]
  },
  {
   "cell_type": "code",
   "execution_count": 132,
   "metadata": {},
   "outputs": [],
   "source": [
    "# cette fonction rassemble toutes les formes d'onde normalisée dans un seul tableau \n",
    "# n nombre de forme d'onde , e numéro du  canal (\"X\",\"Y\",\"Z\")\n",
    "def norm(data1):\n",
    "    \n",
    "    return (np.asarray([[normalize(data1,n,e) for e in range (3)] for n in range(100)])).reshape((-1,2827,3))\n",
    "# pour les n=100 premières formes d'ondes"
   ]
  },
  {
   "cell_type": "code",
   "execution_count": 133,
   "metadata": {},
   "outputs": [
    {
     "data": {
      "text/plain": [
       "array([0.0040876 +0.00180176j, 0.00402299+0.00195334j,\n",
       "       0.00395815+0.00210546j, ..., 0.        +0.j        ,\n",
       "       0.        +0.j        , 0.        +0.j        ])"
      ]
     },
     "execution_count": 133,
     "metadata": {},
     "output_type": "execute_result"
    }
   ],
   "source": [
    "dat2=norm(data1)\n",
    "dat2[0,:,0]"
   ]
  },
  {
   "cell_type": "code",
   "execution_count": 130,
   "metadata": {},
   "outputs": [
    {
     "data": {
      "text/plain": [
       "(10, 2827, 3)"
      ]
     },
     "execution_count": 130,
     "metadata": {},
     "output_type": "execute_result"
    }
   ],
   "source": [
    "dat2.shape"
   ]
  },
  {
   "cell_type": "markdown",
   "metadata": {},
   "source": [
    "#### génération de v.a uniforme "
   ]
  },
  {
   "cell_type": "code",
   "execution_count": null,
   "metadata": {},
   "outputs": [],
   "source": []
  },
  {
   "cell_type": "code",
   "execution_count": 9,
   "metadata": {},
   "outputs": [
    {
     "name": "stdout",
     "output_type": "stream",
     "text": [
      "399,0.002975908915201823\n",
      "799,0.0029763221740722657\n",
      "1199,0.0029767354329427085\n",
      "1599,0.0029771169026692706\n",
      "1999,0.0029775301615397134\n",
      "2399,0.002977943420410156\n",
      "2799,0.0029783248901367188\n",
      "3199,0.0029787381490071615\n",
      "3599,0.0029791514078776043\n",
      "3999,0.002979564666748047\n",
      "4399,0.002979946136474609\n",
      "4799,0.002980359395345052\n",
      "5199,0.0029807726542154947\n",
      "5599,0.0029811541239420573\n",
      "5999,0.0029815673828125\n",
      "6399,0.002981980641682943\n",
      "6799,0.002982393900553385\n",
      "7199,0.0029827753702799478\n",
      "7599,0.0029831886291503905\n",
      "7999,0.0029836018880208333\n",
      "8399,0.002983983357747396\n",
      "8799,0.0029843966166178387\n",
      "9199,0.0029848098754882814\n",
      "9599,0.0029852231343587238\n",
      "9999,0.0029856046040852863\n"
     ]
    }
   ],
   "source": [
    "for i in range(10000):\n",
    "    \n",
    "    if np.min(freq[i,:])==np.min(freq[i+1,:]):\n",
    "        pass\n",
    "    else:\n",
    "        freq1=np.min(freq[i,:])\n",
    "        print(\"{0},{1}\".format(i,freq1))"
   ]
  },
  {
   "cell_type": "code",
   "execution_count": 10,
   "metadata": {},
   "outputs": [
    {
     "data": {
      "text/plain": [
       "0.0029856046040852863"
      ]
     },
     "execution_count": 10,
     "metadata": {},
     "output_type": "execute_result"
    }
   ],
   "source": [
    "freq1"
   ]
  },
  {
   "cell_type": "markdown",
   "metadata": {},
   "source": [
    "# Plot data"
   ]
  },
  {
   "cell_type": "code",
   "execution_count": 41,
   "metadata": {},
   "outputs": [],
   "source": [
    "def freqIdent(freq):\n",
    "    N=100 # nombre total de bande\n",
    "    delta_f=freq[0,1]-freq[0,0]\n",
    "    nbfreq=freq.shape[1]*N\n",
    "    l=[np.min(freq[0:400,:])+ i*(delta_f/nbfreq) for i in range(nbfreq)]\n",
    "    return l\n",
    "     \n",
    "        "
   ]
  },
  {
   "cell_type": "code",
   "execution_count": 73,
   "metadata": {},
   "outputs": [
    {
     "data": {
      "text/html": [
       "<div>\n",
       "<style scoped>\n",
       "    .dataframe tbody tr th:only-of-type {\n",
       "        vertical-align: middle;\n",
       "    }\n",
       "\n",
       "    .dataframe tbody tr th {\n",
       "        vertical-align: top;\n",
       "    }\n",
       "\n",
       "    .dataframe thead th {\n",
       "        text-align: right;\n",
       "    }\n",
       "</style>\n",
       "<table border=\"1\" class=\"dataframe\">\n",
       "  <thead>\n",
       "    <tr style=\"text-align: right;\">\n",
       "      <th></th>\n",
       "      <th>Amplitude</th>\n",
       "      <th>f0(Hz)</th>\n",
       "      <th>fdot</th>\n",
       "      <th>iota(rad)</th>\n",
       "      <th>psi(rad)</th>\n",
       "      <th>phi0(rad)</th>\n",
       "      <th>Ecliptic Latitude (rad)</th>\n",
       "      <th>Ecliptic Longitude (rad)</th>\n",
       "    </tr>\n",
       "  </thead>\n",
       "  <tbody>\n",
       "    <tr>\n",
       "      <th>0</th>\n",
       "      <td>1.000000e-22</td>\n",
       "      <td>0.00298</td>\n",
       "      <td>0.0</td>\n",
       "      <td>0.785398</td>\n",
       "      <td>0.785398</td>\n",
       "      <td>0.0</td>\n",
       "      <td>0.000000</td>\n",
       "      <td>-3.141593</td>\n",
       "    </tr>\n",
       "    <tr>\n",
       "      <th>1</th>\n",
       "      <td>1.000000e-22</td>\n",
       "      <td>0.00298</td>\n",
       "      <td>0.0</td>\n",
       "      <td>0.785398</td>\n",
       "      <td>0.785398</td>\n",
       "      <td>0.0</td>\n",
       "      <td>0.000000</td>\n",
       "      <td>-2.810899</td>\n",
       "    </tr>\n",
       "    <tr>\n",
       "      <th>2</th>\n",
       "      <td>1.000000e-22</td>\n",
       "      <td>0.00298</td>\n",
       "      <td>0.0</td>\n",
       "      <td>0.785398</td>\n",
       "      <td>0.785398</td>\n",
       "      <td>0.0</td>\n",
       "      <td>0.000000</td>\n",
       "      <td>-2.480205</td>\n",
       "    </tr>\n",
       "    <tr>\n",
       "      <th>3</th>\n",
       "      <td>1.000000e-22</td>\n",
       "      <td>0.00298</td>\n",
       "      <td>0.0</td>\n",
       "      <td>0.785398</td>\n",
       "      <td>0.785398</td>\n",
       "      <td>0.0</td>\n",
       "      <td>0.000000</td>\n",
       "      <td>-2.149511</td>\n",
       "    </tr>\n",
       "    <tr>\n",
       "      <th>4</th>\n",
       "      <td>1.000000e-22</td>\n",
       "      <td>0.00298</td>\n",
       "      <td>0.0</td>\n",
       "      <td>0.785398</td>\n",
       "      <td>0.785398</td>\n",
       "      <td>0.0</td>\n",
       "      <td>0.000000</td>\n",
       "      <td>-1.818817</td>\n",
       "    </tr>\n",
       "    <tr>\n",
       "      <th>...</th>\n",
       "      <td>...</td>\n",
       "      <td>...</td>\n",
       "      <td>...</td>\n",
       "      <td>...</td>\n",
       "      <td>...</td>\n",
       "      <td>...</td>\n",
       "      <td>...</td>\n",
       "      <td>...</td>\n",
       "    </tr>\n",
       "    <tr>\n",
       "      <th>39995</th>\n",
       "      <td>1.000000e-22</td>\n",
       "      <td>0.00302</td>\n",
       "      <td>0.0</td>\n",
       "      <td>0.785398</td>\n",
       "      <td>0.785398</td>\n",
       "      <td>0.0</td>\n",
       "      <td>1.570796</td>\n",
       "      <td>1.818817</td>\n",
       "    </tr>\n",
       "    <tr>\n",
       "      <th>39996</th>\n",
       "      <td>1.000000e-22</td>\n",
       "      <td>0.00302</td>\n",
       "      <td>0.0</td>\n",
       "      <td>0.785398</td>\n",
       "      <td>0.785398</td>\n",
       "      <td>0.0</td>\n",
       "      <td>1.570796</td>\n",
       "      <td>2.149511</td>\n",
       "    </tr>\n",
       "    <tr>\n",
       "      <th>39997</th>\n",
       "      <td>1.000000e-22</td>\n",
       "      <td>0.00302</td>\n",
       "      <td>0.0</td>\n",
       "      <td>0.785398</td>\n",
       "      <td>0.785398</td>\n",
       "      <td>0.0</td>\n",
       "      <td>1.570796</td>\n",
       "      <td>2.480205</td>\n",
       "    </tr>\n",
       "    <tr>\n",
       "      <th>39998</th>\n",
       "      <td>1.000000e-22</td>\n",
       "      <td>0.00302</td>\n",
       "      <td>0.0</td>\n",
       "      <td>0.785398</td>\n",
       "      <td>0.785398</td>\n",
       "      <td>0.0</td>\n",
       "      <td>1.570796</td>\n",
       "      <td>2.810899</td>\n",
       "    </tr>\n",
       "    <tr>\n",
       "      <th>39999</th>\n",
       "      <td>1.000000e-22</td>\n",
       "      <td>0.00302</td>\n",
       "      <td>0.0</td>\n",
       "      <td>0.785398</td>\n",
       "      <td>0.785398</td>\n",
       "      <td>0.0</td>\n",
       "      <td>1.570796</td>\n",
       "      <td>3.141593</td>\n",
       "    </tr>\n",
       "  </tbody>\n",
       "</table>\n",
       "<p>40000 rows × 8 columns</p>\n",
       "</div>"
      ],
      "text/plain": [
       "          Amplitude   f0(Hz)  fdot  iota(rad)  psi(rad)  phi0(rad)  \\\n",
       "0      1.000000e-22  0.00298   0.0   0.785398  0.785398        0.0   \n",
       "1      1.000000e-22  0.00298   0.0   0.785398  0.785398        0.0   \n",
       "2      1.000000e-22  0.00298   0.0   0.785398  0.785398        0.0   \n",
       "3      1.000000e-22  0.00298   0.0   0.785398  0.785398        0.0   \n",
       "4      1.000000e-22  0.00298   0.0   0.785398  0.785398        0.0   \n",
       "...             ...      ...   ...        ...       ...        ...   \n",
       "39995  1.000000e-22  0.00302   0.0   0.785398  0.785398        0.0   \n",
       "39996  1.000000e-22  0.00302   0.0   0.785398  0.785398        0.0   \n",
       "39997  1.000000e-22  0.00302   0.0   0.785398  0.785398        0.0   \n",
       "39998  1.000000e-22  0.00302   0.0   0.785398  0.785398        0.0   \n",
       "39999  1.000000e-22  0.00302   0.0   0.785398  0.785398        0.0   \n",
       "\n",
       "       Ecliptic Latitude (rad)  Ecliptic Longitude (rad)  \n",
       "0                     0.000000                 -3.141593  \n",
       "1                     0.000000                 -2.810899  \n",
       "2                     0.000000                 -2.480205  \n",
       "3                     0.000000                 -2.149511  \n",
       "4                     0.000000                 -1.818817  \n",
       "...                        ...                       ...  \n",
       "39995                 1.570796                  1.818817  \n",
       "39996                 1.570796                  2.149511  \n",
       "39997                 1.570796                  2.480205  \n",
       "39998                 1.570796                  2.810899  \n",
       "39999                 1.570796                  3.141593  \n",
       "\n",
       "[40000 rows x 8 columns]"
      ]
     },
     "execution_count": 73,
     "metadata": {},
     "output_type": "execute_result"
    }
   ],
   "source": [
    "import pandas as pd\n",
    "col=['Amplitude','f0(Hz)','fdot','iota(rad)','psi(rad)','phi0(rad)','Ecliptic Latitude (rad)','Ecliptic Longitude (rad)']\n",
    "params_df=pd.DataFrame(params,columns=col)\n",
    "pd.set_option('display.max_row',40)\n",
    "params_df"
   ]
  },
  {
   "cell_type": "code",
   "execution_count": 14,
   "metadata": {},
   "outputs": [
    {
     "name": "stdout",
     "output_type": "stream",
     "text": [
      "PARAMETRES:\n",
      "Amplitude: 1e-22\n",
      "f0 (Hz): 0.00298\n",
      "fdot: 0.0\n",
      "iota (rad): 0.7853981633974483\n",
      "psi (rad): 0.7853981633974483\n",
      "phi0 (rad): 0.0\n",
      "Ecliptic Latitude (rad): 0.0\n",
      "Ecliptic Longitude (rad): 1.1574288723751867\n"
     ]
    }
   ],
   "source": [
    "print('PARAMETRES:')\n",
    "print('Amplitude:',params[n,0])\n",
    "print('f0 (Hz):',params[n,1])\n",
    "print('fdot:',params[n,2])\n",
    "print('iota (rad):',params[n,3])\n",
    "print('psi (rad):',params[n,4])\n",
    "print('phi0 (rad):',params[n,5])\n",
    "print('Ecliptic Latitude (rad):',params[n,6])#beta\n",
    "print('Ecliptic Longitude (rad):',params[n,7])#lambda"
   ]
  },
  {
   "cell_type": "markdown",
   "metadata": {},
   "source": [
    "##### Ajout d'un AWGN pour  avoir un SNR de 20 dB"
   ]
  },
  {
   "cell_type": "markdown",
   "metadata": {},
   "source": [
    "- on sait que : SNR(dB)= $P_{\\rm signal}$(dB) -  $P_{\\rm bruit}$(dB)\n",
    "\n",
    "   - donc $P_{\\rm bruit}$(dB)= $P_{\\rm signal}$(dB) -  SNR(dB)\n",
    "   \n",
    "- ici P correspond à la puissance moyenne "
   ]
  },
  {
   "cell_type": "code",
   "execution_count": 96,
   "metadata": {},
   "outputs": [],
   "source": [
    "SNR=20       # SNR en dB\n",
    "def noise(data,c,e,n):          # c nombre de canaux 'X','Y'et 'Z'  e nombre de formes d'onde, n nombre d'obser\n",
    "    mean_noise=0\n",
    "    for i in range(c):\n",
    "        for j in range(e):\n",
    "            y=[]\n",
    "            y=np.append(y,np.mean(data[j,:n,i])) # récupère la moyenne de chaque FO sur le canal i\n",
    "            data_amp_dB=10*np.log10(y) # conversion en dB \n",
    "            noise_amp_dB= data_amp_dB - SNR # amplitude du bruit en dB (ajout à la partie réelle)\n",
    "            noise_amp_lin=10**(noise_amp_dB/10)\n",
    "            t1=np.real(noise_amp_lin)\n",
    "            t2=np.imag(noise_amp_lin)\n",
    "            for a,b in zip(t1,t2):\n",
    "                np.random.seed(0)\n",
    "    # génération d'un AWGN\n",
    "                noise=np.random.normal(mean_noise,np.sqrt(abs(a+b)),data[j,:n,i].shape)\n",
    "                data_noise=data[j,:n,i] + noise\n",
    "                print(\"canal {0}, forme d'onde {1}, donnée bruitée {2}\".format(i,j,data_noise))\n",
    "    return data_noise"
   ]
  },
  {
   "cell_type": "code",
   "execution_count": null,
   "metadata": {},
   "outputs": [],
   "source": []
  }
 ],
 "metadata": {
  "kernelspec": {
   "display_name": "Python 3",
   "language": "python",
   "name": "python3"
  },
  "language_info": {
   "codemirror_mode": {
    "name": "ipython",
    "version": 3
   },
   "file_extension": ".py",
   "mimetype": "text/x-python",
   "name": "python",
   "nbconvert_exporter": "python",
   "pygments_lexer": "ipython3",
   "version": "3.8.5"
  },
  "toc": {
   "base_numbering": 1,
   "nav_menu": {},
   "number_sections": true,
   "sideBar": true,
   "skip_h1_title": false,
   "title_cell": "Table of Contents",
   "title_sidebar": "Contents",
   "toc_cell": false,
   "toc_position": {},
   "toc_section_display": true,
   "toc_window_display": false
  }
 },
 "nbformat": 4,
 "nbformat_minor": 2
}
