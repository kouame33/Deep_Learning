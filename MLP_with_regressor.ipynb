{
 "cells": [
  {
   "cell_type": "markdown",
   "metadata": {},
   "source": [
    "#### MLP Regression in Jax\n",
    "- Librairies nécéssaires"
   ]
  },
  {
   "cell_type": "code",
   "execution_count": 17,
   "metadata": {},
   "outputs": [],
   "source": [
    "import torch\n",
    "import time\n",
    "import matplotlib.pyplot as plt\n",
    "import numpy as np\n",
    "from jax import numpy as jax_np\n",
    "from jax import vmap as jax_vmap\n",
    "from jax import grad as jax_grad\n",
    "from jax import jit as jax_jit\n",
    "from jax import random as jax_ran\n",
    "from jax.experimental import stax,optimizers\n",
    "from jax.experimental.stax import Dense, Relu"
   ]
  },
  {
   "cell_type": "markdown",
   "metadata": {},
   "source": [
    "#### ReLU function used in all dense layers"
   ]
  },
  {
   "cell_type": "code",
   "execution_count": 2,
   "metadata": {},
   "outputs": [
    {
     "name": "stderr",
     "output_type": "stream",
     "text": [
      "WARNING:absl:No GPU/TPU found, falling back to CPU. (Set TF_CPP_MIN_LOG_LEVEL=0 and rerun for more info.)\n"
     ]
    },
    {
     "data": {
      "image/png": "[encoded data removed]",
      "text/plain": [
       "<Figure size 432x288 with 1 Axes>"
      ]
     },
     "metadata": {
      "needs_background": "light"
     },
     "output_type": "display_data"
    }
   ],
   "source": [
    "%matplotlib inline\n",
    "\n",
    "from jax.nn import relu\n",
    "\n",
    "fig, ax = plt.subplots(1, 1)\n",
    "xlim = ax.set_xlim(-5, 5)\n",
    "ylim = ax.set_ylim(-5, 5)\n",
    "_x = np.linspace(-5, 5, 1000)\n",
    "__=ax.plot(_x, relu(_x))\n",
    "xlabel = ax.set_xlabel(r'$x$')\n",
    "ylabel = ax.set_ylabel(r'$y$')\n",
    "title = ax.set_title(r'${\\rm RELU\\ function}$')\n",
    "__=ax.plot(_x, np.zeros_like(_x), ':', color='k')\n",
    "__=ax.plot(np.zeros_like(_x), _x, ':', color='k')"
   ]
  },
  {
   "cell_type": "markdown",
   "metadata": {},
   "source": [
    "#### Fonction feedforward (propagation en l'avant à travers le réseau)"
   ]
  },
  {
   "cell_type": "code",
   "execution_count": 3,
   "metadata": {},
   "outputs": [],
   "source": [
    "def feedforward_prediction(params,in_array):\n",
    "    \"\"\" Chaque neurone est appliqué à la fonction d'activation y=w*x+b,\n",
    "     seulement la dernière couche (couche de sortie) qui n'utilise pas de cette fonction d'activation (régression) \n",
    "     utilisation de la fonction identité\n",
    "     \n",
    "     Paramètres de la fonction:\n",
    "     --------------------------------\n",
    "       params: list de tuple \n",
    "            paramètre du réseau , avec une liste d'élément par couche (w,b)\n",
    "       in_array: ndarray \n",
    "            shape de la forme (batch_size, n_features)\n",
    "    \n",
    "     Returns\n",
    "     -------------------------------\n",
    "        preds: ndarray\n",
    "             ndarray dont le shape est (batch_size, n_targets)\n",
    "     \n",
    "     \"\"\"\n",
    "    \n",
    "    activations = in_array\n",
    "    \n",
    "    # Boucle itérative sur chaque couche dense exceptée la dernière\n",
    "    for w, b in params[:-1]:\n",
    "        outputs = jax_np.dot(w, activations) + b  # Application de la transformation linéaire\n",
    "        activations = relu(outputs)  #  apply nonlinear activation\n",
    "        \n",
    "    #  Now for the final layer\n",
    "    w_final, b_final = params[-1] \n",
    "    final_outputs = jax_np.dot(w_final, activations) + b_final \n",
    "    return final_outputs  # Final layer is just w*x + b with no activation"
   ]
  },
  {
   "cell_type": "markdown",
   "metadata": {},
   "source": [
    "#### Vectorisation des prédictions du réseau avec vmap\n",
    "\n",
    "- La fonction feedforward_prediction n'accepte que les arguments scalaires. Le vectoriser avec vmap simplifiera l'apprentissage par lots( batch-training) du réseau , plutôt que l'entrainement avec un point de données à la fois."
   ]
  },
  {
   "cell_type": "code",
   "execution_count": 4,
   "metadata": {},
   "outputs": [],
   "source": [
    "batched_prediction = jax_vmap(feedforward_prediction, in_axes=(None, 0))"
   ]
  },
  {
   "cell_type": "markdown",
   "metadata": {},
   "source": [
    "#### Fonction de perte et mise à jour de la déscente de gradient"
   ]
  },
  {
   "cell_type": "code",
   "execution_count": 19,
   "metadata": {},
   "outputs": [],
   "source": [
    "def mse_loss(params, in_array, targets):\n",
    "    preds = batched_prediction(params,in_array)\n",
    "    diff = preds - targets\n",
    "    return jax_np.sum(diff*diff)/preds.shape[0]\n",
    "\n",
    "#def accuracy(params, ) # à complèté\n",
    "\n",
    "\n",
    "\n",
    "\n",
    "'''@jax_jit\n",
    "def update(params, x, y, learning_rate):\n",
    "    grads = jax_grad(mse_loss)(params, x, y)\n",
    "    return [(w - learning_rate * dw, b - learning_rate * db) \n",
    "            for (w, b), (dw, db) in zip(params, grads)]\n",
    "\n",
    "'''\n",
    "\n",
    "\n",
    "@jax_jit\n",
    "def update(params, x, y, opt_state):\n",
    "    \"\"\" Compute the gradient for a batch and update the parameters \"\"\"\n",
    "    value, grads = value_and_grad(mse_loss)(params, x, y)\n",
    "    opt_state = opt_update(0, grads, opt_state)\n",
    "    return get_params(opt_state), opt_state, value\n",
    "\n",
    "# Defining an optimizer in Jax\n",
    "learning_rate= 1e-3\n",
    "opt_init, opt_update, get_params = optimizers.adam(learning_rate)\n",
    "opt_state = opt_init(params)\n",
    "\n",
    "num_epochs = 10\n",
    "num_classes = 10\n",
    "\n"
   ]
  },
  {
   "cell_type": "markdown",
   "metadata": {},
   "source": [
    "#### Initialisation des paramètres du réseau\n",
    "\n",
    "- Les paramètres du réseau sont spécifiés par une liste python de longueur $N_{\\rm layers}$.\n",
    "- Chaque élément de la liste est un tuple à deux éléments stokant les paramètres des $n_{\\rm i}$ neurones de la couche $i^{\\rm th}$.\n",
    "  - Le premier élément de tuple donne des valeurs de paramètres sur les poids $w_{\\rm i,i-1}$ , stockés comme un ndarray de la forme ($n_{\\rm i}$,$n_{\\rm i-1}$).\n",
    "  - Le deuxième élément de tuple donne des valeurs de paramètres sur les biais $b_{\\rm i}$, stokés comme un ndarray de la forme ($n_{\\rm i}$, )."
   ]
  },
  {
   "cell_type": "code",
   "execution_count": 7,
   "metadata": {},
   "outputs": [],
   "source": [
    "# initialisation des poids et biais du réseau à l'aide de jax_ran\n",
    "\n",
    "def initialize_network_params(m,n,key,scale=0.01):\n",
    "    w_key,b_key=jax_ran.split(key)\n",
    "    ran_weigths=scale*jax_ran.normal(w_key,(n,m)) # le poids entre le neurone(suivant) n et m(neurone précédent)\n",
    "    ran_biases=scale*jax_ran.normal(w_key,(n,)) #  biais du neurone i\n",
    "    return ran_weigths,ran_biases\n",
    "\n",
    "\n",
    "# initialisation des couches du réseau à l'aide de jax_ran  : couche dense(fully connection)\n",
    "\n",
    "def initialize_network_layer(sizes,key):\n",
    "    keys=jax_ran.split(key,len(sizes))\n",
    "    return [initialize_network_params(m,n,k)for m,n,k in zip(sizes[:-1],sizes[1:],keys)]\n",
    "        \n",
    "        \n",
    "    \n",
    "    "
   ]
  },
  {
   "cell_type": "markdown",
   "metadata": {},
   "source": [
    "#### construction du réseau de neurone"
   ]
  },
  {
   "cell_type": "code",
   "execution_count": 13,
   "metadata": {},
   "outputs": [],
   "source": [
    "def network_layer_sizes(n_features,n_targets,n_layers,n_neurons_per_layer):\n",
    "    dense_layer_sizes=[n_neurons_per_layer]*n_layers\n",
    "    layer_sizes=[n_features,*dense_layer_sizes,n_targets]\n",
    "    return layer_sizes\n",
    "\n",
    "\n",
    "\n",
    "key=jax_ran.PRNGKey(0)\n",
    "num_features, num_targets = 1, 1           # nombre de feature 256\n",
    "num_layers, num_neurons_per_layer = 1, 8   # MLP à une couche cachée (8 units )\n",
    "\n",
    "layer_sizes =network_layer_sizes(\n",
    "    num_features, num_targets, num_layers, num_neurons_per_layer)\n",
    "\n",
    "# Return a list of tuples of layer weights\n",
    "params=initialize_network_layer(layer_sizes,key)"
   ]
  },
  {
   "cell_type": "code",
   "execution_count": 16,
   "metadata": {},
   "outputs": [
    {
     "data": {
      "text/plain": [
       "3"
      ]
     },
     "execution_count": 16,
     "metadata": {},
     "output_type": "execute_result"
    }
   ],
   "source": [
    "len(layer_sizes)"
   ]
  },
  {
   "cell_type": "code",
   "execution_count": 15,
   "metadata": {},
   "outputs": [
    {
     "data": {
      "text/plain": [
       "[(DeviceArray([[ 0.01636383],\n",
       "               [-0.00146064],\n",
       "               [-0.00516142],\n",
       "               [ 0.01184347],\n",
       "               [-0.00015166],\n",
       "               [ 0.0001391 ],\n",
       "               [-0.00599166],\n",
       "               [-0.00270154]], dtype=float32),\n",
       "  DeviceArray([ 0.01636383, -0.00146064, -0.00516142,  0.01184347,\n",
       "               -0.00015166,  0.0001391 , -0.00599166, -0.00270154],            dtype=float32)),\n",
       " (DeviceArray([[ 0.01071123,  0.00239608, -0.0080535 , -0.00820006,\n",
       "                 0.00975777,  0.01913843,  0.02050339,  0.00248485]],            dtype=float32),\n",
       "  DeviceArray([-0.00278829], dtype=float32))]"
      ]
     },
     "execution_count": 15,
     "metadata": {},
     "output_type": "execute_result"
    }
   ],
   "source": [
    "params"
   ]
  },
  {
   "cell_type": "markdown",
   "metadata": {},
   "source": [
    "###### Chargement des données"
   ]
  },
  {
   "cell_type": "markdown",
   "metadata": {},
   "source": [
    "##### Entrainement du réseau"
   ]
  },
  {
   "cell_type": "code",
   "execution_count": null,
   "metadata": {},
   "outputs": [],
   "source": []
  }
 ],
 "metadata": {
  "kernelspec": {
   "display_name": "Python 3",
   "language": "python",
   "name": "python3"
  },
  "language_info": {
   "codemirror_mode": {
    "name": "ipython",
    "version": 3
   },
   "file_extension": ".py",
   "mimetype": "text/x-python",
   "name": "python",
   "nbconvert_exporter": "python",
   "pygments_lexer": "ipython3",
   "version": "3.8.5"
  }
 },
 "nbformat": 4,
 "nbformat_minor": 4
}
