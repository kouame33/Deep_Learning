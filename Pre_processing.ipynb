{
 "cells": [
  {
   "cell_type": "markdown",
   "metadata": {},
   "source": [
    "![ CEA LOGO]\n",
    "(\"https://fr.wikipedia.org/wiki/Fichier:CEA_logotype2012.png\")\n",
    "\n",
    "\n"
   ]
  },
  {
   "cell_type": "code",
   "execution_count": 1,
   "metadata": {},
   "outputs": [],
   "source": [
    "import numpy as np\n",
    "\n",
    "%matplotlib inline\n",
    "import matplotlib.pyplot as plt"
   ]
  },
  {
   "cell_type": "markdown",
   "metadata": {},
   "source": [
    "# Load data"
   ]
  },
  {
   "cell_type": "code",
   "execution_count": 2,
   "metadata": {},
   "outputs": [
    {
     "name": "stdout",
     "output_type": "stream",
     "text": [
      "['data', 'freq', 'params']\n"
     ]
    }
   ],
   "source": [
    "mydata = np.load('data_ML_Nfreq100_Nbeta20_Nlambda20.npz',allow_pickle=True)\n",
    "print(mydata.files)"
   ]
  },
  {
   "cell_type": "code",
   "execution_count": 3,
   "metadata": {},
   "outputs": [],
   "source": [
    "data = mydata['data']\n",
    "freq = mydata['freq']\n",
    "params = mydata['params']"
   ]
  },
  {
   "cell_type": "code",
   "execution_count": 4,
   "metadata": {},
   "outputs": [
    {
     "data": {
      "text/plain": [
       "(40000, 256)"
      ]
     },
     "execution_count": 4,
     "metadata": {},
     "output_type": "execute_result"
    }
   ],
   "source": [
    "freq.shape"
   ]
  },
  {
   "cell_type": "code",
   "execution_count": 5,
   "metadata": {},
   "outputs": [
    {
     "data": {
      "text/plain": [
       "(40000, 256, 3)"
      ]
     },
     "execution_count": 5,
     "metadata": {},
     "output_type": "execute_result"
    }
   ],
   "source": [
    "data.shape"
   ]
  },
  {
   "cell_type": "code",
   "execution_count": 6,
   "metadata": {},
   "outputs": [
    {
     "data": {
      "text/plain": [
       "(40000, 8)"
      ]
     },
     "execution_count": 6,
     "metadata": {},
     "output_type": "execute_result"
    }
   ],
   "source": [
    "params.shape"
   ]
  },
  {
   "cell_type": "code",
   "execution_count": 7,
   "metadata": {},
   "outputs": [
    {
     "data": {
      "text/plain": [
       "array([[[ 1.57502989e-26+6.94253168e-27j,\n",
       "         -2.36671887e-27-1.64725180e-26j,\n",
       "         -1.32160687e-26+9.60224977e-27j],\n",
       "        [ 1.56673787e-26+7.13709609e-27j,\n",
       "         -2.16459267e-27-1.65045372e-26j,\n",
       "         -1.33361582e-26+9.44176278e-27j],\n",
       "        [ 1.55844074e-26+7.33176966e-27j,\n",
       "         -1.96233959e-27-1.65365682e-26j,\n",
       "         -1.34563238e-26+9.28117913e-27j],\n",
       "        ...,\n",
       "        [ 1.60903190e-26+6.38328897e-27j,\n",
       "         -2.99954320e-27-1.64634817e-26j,\n",
       "         -1.29191754e-26+1.01467109e-26j],\n",
       "        [ 1.60070751e-26+6.57899213e-27j,\n",
       "         -2.79635469e-27-1.64958261e-26j,\n",
       "         -1.30400102e-26+9.98542972e-27j],\n",
       "        [ 1.59238547e-26+6.77462787e-27j,\n",
       "         -2.59322233e-27-1.65281528e-26j,\n",
       "         -1.31608118e-26+9.82419703e-27j]],\n",
       "\n",
       "       [[ 1.09701593e-26+1.16306020e-26j,\n",
       "          3.79906581e-27-1.50228879e-26j,\n",
       "         -1.45838161e-26+3.43701333e-27j],\n",
       "        [ 1.08334501e-26+1.17728946e-26j,\n",
       "          3.98692953e-27-1.49852635e-26j,\n",
       "         -1.46354127e-26+3.25938689e-27j],\n",
       "        [ 1.06965247e-26+1.19153863e-26j,\n",
       "          4.17507163e-27-1.49475571e-26j,\n",
       "         -1.46870718e-26+3.08148252e-27j],\n",
       "        ...,\n",
       "        [ 1.14486579e-26+1.12582073e-26j,\n",
       "          3.24456114e-27-1.52197454e-26j,\n",
       "         -1.45049290e-26+3.99959635e-27j],\n",
       "        [ 1.13116971e-26+1.14010227e-26j,\n",
       "          3.43297398e-27-1.51822135e-26j,\n",
       "         -1.45568251e-26+3.82155310e-27j],\n",
       "        [ 1.11746436e-26+1.15439082e-26j,\n",
       "          3.62149515e-27-1.51446334e-26j,\n",
       "         -1.46087367e-26+3.64339264e-27j]]])"
      ]
     },
     "execution_count": 7,
     "metadata": {},
     "output_type": "execute_result"
    }
   ],
   "source": [
    "data[0:2,:,:]"
   ]
  },
  {
   "cell_type": "markdown",
   "metadata": {},
   "source": [
    " ### For pre_processing we are going to use $data$ and $params$"
   ]
  },
  {
   "cell_type": "markdown",
   "metadata": {},
   "source": [
    "#  I. Using $data$ for pre_processing"
   ]
  },
  {
   "cell_type": "markdown",
   "metadata": {},
   "source": [
    "####  1. Same Interval\n",
    "\n",
    "- Nous avons 100 bandes de fréquences $B_i,\\forall i \\in \\overline{1,100}$ .\n",
    "- Chaque bande $B_i$ à chacune 256 fréquences avec une fréquence min et  max.\n",
    "- Dans chaque bande $B_i$ , nous avons 400 formes d'ondes donc un total de $N=40 000$ formes d'ondes\n",
    "  - l'objectif ici est de gérer le problème de chevrauchement entre bande. \n",
    "  - Il s'agit simplement d'observer les N formes d'ondes dans une seule $BT$ (bande Totale) "
   ]
  },
  {
   "cell_type": "code",
   "execution_count": 8,
   "metadata": {},
   "outputs": [],
   "source": [
    "\n",
    "fr=list(freq[0:40000,:])\n",
    "frT=np.asarray(fr)\n",
    "#frTB=frT.flatten()\n",
    "freqBT=np.sort(frT)\n",
    "freqBT_unique=np.unique(freqBT)\n",
    "\n",
    "S_real=np.zeros((40000,freqBT_unique.shape[0],3))\n",
    "S_imag=np.zeros((40000,freqBT_unique.shape[0],3))\n",
    "I=np.arange(0,40000,400)\n",
    "K=np.arange(256,freqBT_unique.shape[0])\n",
    "J=np.arange(freqBT_unique.shape[0]-256)\n",
    "for i,j,k in zip(I,J,K):\n",
    "    S_real[i:(i+400),j:k,:]=np.real(data[i:(i+400),:,:])\n",
    "    S_imag[i:(i+400),j:k,:]=np.imag(data[i:(i+400),:,:])\n"
   ]
  },
  {
   "cell_type": "code",
   "execution_count": 9,
   "metadata": {},
   "outputs": [
    {
     "data": {
      "text/plain": [
       "(2827,)"
      ]
     },
     "execution_count": 9,
     "metadata": {},
     "output_type": "execute_result"
    }
   ],
   "source": [
    "freqBT_unique.shape"
   ]
  },
  {
   "cell_type": "code",
   "execution_count": 10,
   "metadata": {},
   "outputs": [],
   "source": [
    "# mettre toutes les formes d'ondes  sur la même bande de fréquences\n",
    "def SameInt(S_real,S_imag):\n",
    "    return np.asarray([u+1j*v for u,v in zip(S_real,S_imag)])"
   ]
  },
  {
   "cell_type": "code",
   "execution_count": 11,
   "metadata": {},
   "outputs": [
    {
     "data": {
      "text/plain": [
       "(40000, 2827, 3)"
      ]
     },
     "execution_count": 11,
     "metadata": {},
     "output_type": "execute_result"
    }
   ],
   "source": [
    "S=SameInt(S_real[:,:,:],S_imag[:,:,:])\n",
    "S.shape"
   ]
  },
  {
   "cell_type": "code",
   "execution_count": 12,
   "metadata": {},
   "outputs": [
    {
     "data": {
      "text/plain": [
       "array([1.57502989e-26+6.94253168e-27j, 1.56673787e-26+7.13709609e-27j,\n",
       "       1.55844074e-26+7.33176966e-27j, ...,\n",
       "       0.00000000e+00+0.00000000e+00j, 0.00000000e+00+0.00000000e+00j,\n",
       "       0.00000000e+00+0.00000000e+00j])"
      ]
     },
     "execution_count": 12,
     "metadata": {},
     "output_type": "execute_result"
    }
   ],
   "source": [
    "# verification ( des zéros après la 256 ième fréquence pour FO 0)\n",
    "S[0,:,0]"
   ]
  },
  {
   "cell_type": "markdown",
   "metadata": {},
   "source": [
    "####  2. Normalisation\n",
    "\n",
    "- $ \\overline{S_i}=\\frac{S_i}{\\rVert S_i \\lVert_2},\\quad \\forall i \\in \\overline{0,40000}$"
   ]
  },
  {
   "cell_type": "code",
   "execution_count": 13,
   "metadata": {
    "scrolled": false
   },
   "outputs": [],
   "source": [
    "# cette fonction normalise seulement une forme d'onde pour un canal \"X\",\"Y\",\"Z\"\n",
    "def normalize(S,n,e):\n",
    "# n nombre de FO, e nombre de canal\n",
    "    \n",
    "    return np.asarray([S[n,i,e]/np.linalg.norm(S[n,:,e]) for i in range(S.shape[1])])\n",
    "\n",
    "# return un tableau contenant chaque forme d'onde normalisée"
   ]
  },
  {
   "cell_type": "code",
   "execution_count": 14,
   "metadata": {},
   "outputs": [
    {
     "data": {
      "text/plain": [
       "array([-0.0044968 -0.00040616j, -0.00448933-0.00046114j,\n",
       "       -0.00448187-0.00051608j, ...,  0.        +0.j        ,\n",
       "        0.        +0.j        ,  0.        +0.j        ])"
      ]
     },
     "execution_count": 14,
     "metadata": {},
     "output_type": "execute_result"
    }
   ],
   "source": [
    "S1=normalize(S,10,0)\n",
    "S1"
   ]
  },
  {
   "cell_type": "code",
   "execution_count": 15,
   "metadata": {},
   "outputs": [],
   "source": [
    "# cette fonction rassemble toutes les formes d'onde normalisée dans un seul tableau \n",
    "# n nombre de forme d'onde , e numéro du  canal (\"X\",\"Y\",\"Z\")\n",
    "def norm(S):\n",
    "    \n",
    "    return (np.asarray([[normalize(S,n,e) for e in range (3)] for n in range(400)])).reshape((-1,2827,3))\n",
    "# pour les n=400 premières formes d'ondes"
   ]
  },
  {
   "cell_type": "code",
   "execution_count": 16,
   "metadata": {},
   "outputs": [
    {
     "data": {
      "text/plain": [
       "array([0.0040876 +0.00180176j, 0.00402299+0.00195334j,\n",
       "       0.00395815+0.00210546j, ..., 0.        +0.j        ,\n",
       "       0.        +0.j        , 0.        +0.j        ])"
      ]
     },
     "execution_count": 16,
     "metadata": {},
     "output_type": "execute_result"
    }
   ],
   "source": [
    "S_bar=norm(S)\n",
    "S_bar[0,:,0]"
   ]
  },
  {
   "cell_type": "code",
   "execution_count": 17,
   "metadata": {},
   "outputs": [
    {
     "data": {
      "text/plain": [
       "(400, 2827, 3)"
      ]
     },
     "execution_count": 17,
     "metadata": {},
     "output_type": "execute_result"
    }
   ],
   "source": [
    "S_bar.shape"
   ]
  },
  {
   "cell_type": "markdown",
   "metadata": {},
   "source": [
    "####  3. Génération de v.a uniforme \n",
    "\n",
    "- $ \\tilde{S_{i,k}}= \\mathrm{X}_k \\times \\overline{S_i},\\quad \\forall i \\in [0,1,...,40000] ,\\quad k \\in \\overline{0,5}\\quad avec \\quad \\mathrm{X}_k \\to \\cup(1,10)$"
   ]
  },
  {
   "cell_type": "code",
   "execution_count": 18,
   "metadata": {},
   "outputs": [
    {
     "data": {
      "text/plain": [
       "[array([5.40549947, 1.52797017, 7.66992095, 5.05752027, 8.52558842]),\n",
       " array([8.84525566, 3.77149699, 2.46665775, 6.56127653, 8.26509508]),\n",
       " array([4.49684176, 1.81388341, 8.26065069, 3.77829225, 5.83746893]),\n",
       " array([5.87874667, 1.91940381, 5.36329842, 9.68773859, 8.35269071]),\n",
       " array([5.34198726, 1.79806564, 5.91648686, 8.98847596, 6.65540247]),\n",
       " array([3.46516623, 9.80297158, 6.83118669, 1.69950957, 3.15654426]),\n",
       " array([2.10020282, 1.47091659, 9.39494916, 4.08834101, 2.44371563]),\n",
       " array([7.9446062 , 4.43616404, 8.2300144 , 7.8463393 , 5.32244488]),\n",
       " array([5.85381861, 6.79425213, 5.21421737, 8.69038487, 7.06118708]),\n",
       " array([4.72949469, 4.52983038, 5.78937274, 8.04632321, 8.50309319])]"
      ]
     },
     "execution_count": 18,
     "metadata": {},
     "output_type": "execute_result"
    }
   ],
   "source": [
    "# génération de 5 valeurs de loi uniforme\n",
    "#np.random.seed(0)\n",
    "nb_fo=400 # nombre de FO utilisable pour l'apprentissage du réseau de neurones (400)\n",
    "X=[np.random.uniform(1,10,5) for _ in range(nb_fo)]\n",
    "X[:10]"
   ]
  },
  {
   "cell_type": "code",
   "execution_count": 19,
   "metadata": {},
   "outputs": [],
   "source": [
    "# multiplication de X par chaque FO\n",
    "def amplitude(S,n):\n",
    "    \n",
    "    return np.asarray([S[n,:,:]*i for i in X[n]])"
   ]
  },
  {
   "cell_type": "code",
   "execution_count": 20,
   "metadata": {},
   "outputs": [],
   "source": [
    "# cette fonction retourne les 5 amplitudes différentes de chaque FO\n",
    "def amp(S):\n",
    "     \n",
    "    return (np.asarray([amplitude(S,n) for n in range(nb_fo)])).reshape((-1,5,2827,3))\n",
    "# chaque FO retourne 5 sous formes d'onde d'amplitude différentes chacune ayant 2827 fréquences \n",
    "\n"
   ]
  },
  {
   "cell_type": "code",
   "execution_count": 21,
   "metadata": {},
   "outputs": [],
   "source": [
    "S_tilde=amp(S_bar)"
   ]
  },
  {
   "cell_type": "code",
   "execution_count": 24,
   "metadata": {},
   "outputs": [
    {
     "data": {
      "text/plain": [
       "array([[0.02209551+0.00973942j, 0.02174628+0.0105588j ,\n",
       "        0.02139578+0.01138106j, ..., 0.        +0.j        ,\n",
       "        0.        +0.j        , 0.        +0.j        ],\n",
       "       [0.00624573+0.00275304j, 0.00614701+0.00298465j,\n",
       "        0.00604794+0.00321708j, ..., 0.        +0.j        ,\n",
       "        0.        +0.j        , 0.        +0.j        ],\n",
       "       [0.03135156+0.01381937j, 0.03085604+0.014982j  ,\n",
       "        0.0303587 +0.0161487j , ..., 0.        +0.j        ,\n",
       "        0.        +0.j        , 0.        +0.j        ],\n",
       "       [0.02067311+0.00911245j, 0.02034637+0.00987908j,\n",
       "        0.02001843+0.0106484j , ..., 0.        +0.j        ,\n",
       "        0.        +0.j        , 0.        +0.j        ],\n",
       "       [0.03484918+0.01536108j, 0.03429838+0.01665341j,\n",
       "        0.03374556+0.01795028j, ..., 0.        +0.j        ,\n",
       "        0.        +0.j        , 0.        +0.j        ]])"
      ]
     },
     "execution_count": 24,
     "metadata": {},
     "output_type": "execute_result"
    }
   ],
   "source": [
    "S_tilde[0,:,:,0]"
   ]
  },
  {
   "cell_type": "code",
   "execution_count": 23,
   "metadata": {},
   "outputs": [
    {
     "data": {
      "text/plain": [
       "(400, 5, 2827, 3)"
      ]
     },
     "execution_count": 23,
     "metadata": {},
     "output_type": "execute_result"
    }
   ],
   "source": [
    "S_tilde.shape"
   ]
  },
  {
   "cell_type": "markdown",
   "metadata": {},
   "source": [
    "#  II. Using $params $ for pre_processing"
   ]
  },
  {
   "cell_type": "markdown",
   "metadata": {},
   "source": [
    "#### 1.Parameters used for learning\n",
    "\n",
    "-  Amplitude $h_0$\n",
    "-  Latitude Ecliptic $\\beta$\n",
    "-  Ecliptic Longitude $\\lambda$"
   ]
  },
  {
   "cell_type": "code",
   "execution_count": 23,
   "metadata": {},
   "outputs": [
    {
     "data": {
      "text/plain": [
       "array([[ 1.00000000e-22,  0.00000000e+00, -3.14159265e+00],\n",
       "       [ 1.00000000e-22,  0.00000000e+00, -2.81089869e+00],\n",
       "       [ 1.00000000e-22,  0.00000000e+00, -2.48020473e+00],\n",
       "       ...,\n",
       "       [ 1.00000000e-22,  1.57079633e+00,  2.48020473e+00],\n",
       "       [ 1.00000000e-22,  1.57079633e+00,  2.81089869e+00],\n",
       "       [ 1.00000000e-22,  1.57079633e+00,  3.14159265e+00]])"
      ]
     },
     "execution_count": 23,
     "metadata": {},
     "output_type": "execute_result"
    }
   ],
   "source": [
    "amplitude=params[:,0] # amplitude\n",
    "beta=params[:,6] # bêta\n",
    "lamb=params[:,7] # lambda\n",
    "#parameters=[]\n",
    "#zz=np.concatenate((amplitude[0:2],beta[0:2]))\n",
    "parameters=np.asarray([(i,j,k)for i,j,k in zip(amplitude,beta,lamb)] )\n",
    "\n",
    "parameters\n"
   ]
  },
  {
   "cell_type": "code",
   "execution_count": 24,
   "metadata": {},
   "outputs": [
    {
     "data": {
      "text/plain": [
       "(40000, 3)"
      ]
     },
     "execution_count": 24,
     "metadata": {},
     "output_type": "execute_result"
    }
   ],
   "source": [
    "parameters.shape"
   ]
  },
  {
   "cell_type": "markdown",
   "metadata": {},
   "source": [
    " -  $ \\overline{h}=[h_i]=\\frac{h_0}{\\rVert S_i \\lVert_2},\\forall i \\quad\\text{allant de 0 à nb_fo}$\n",
    "\n",
    " -  $\\tilde{h}=[h_i]\\times\\mathrm{X}_j ,\\forall i \\in  \\overline{0,nb}\\quad et\\quad j \\in\\overline{0,5}\\quad avec \\quad  \\mathrm{X} \\to \\cup(1,10) $"
   ]
  },
  {
   "cell_type": "markdown",
   "metadata": {},
   "source": [
    "$$\n",
    " \\forall i \\in [1,2,..400],\\begin{array}{|c|c|c|c|c|}\n",
    "\\hline\n",
    "\\beta & \\lambda & \\overline{h} & \\tilde{h}\\\\\n",
    "\\hline\n",
    "\\beta_i & \\lambda_i & \\text{cte} & \\text{cte1}\\\\\n",
    "\\hline\n",
    "\\beta_i & \\lambda_i & \\text{cte} & \\text{cte2}\\\\\n",
    "\\hline\n",
    "\\beta_i & \\lambda_i & \\text{cte} & \\text{cte3}\\\\\n",
    "\\hline\n",
    "\\beta_i & \\lambda_i & \\text{cte} & \\text{cte4}\\\\\n",
    "\\hline\n",
    "\\beta_i & \\lambda_i & \\text{cte} & \\text{cte5}\\\\\n",
    "\\hline\n",
    "\\end{array}\n",
    "$$\n",
    "\n"
   ]
  },
  {
   "cell_type": "code",
   "execution_count": 27,
   "metadata": {},
   "outputs": [],
   "source": [
    "def ParametersAmpli(S,c): # c canal utilisé\n",
    "    h_bar=[parameters[i,0]/np.linalg.norm(S[i,:,c]) for i in range(nb_fo)]\n",
    "    h_tilde=np.asarray([[h_bar[j]*i for j in range(nb_fo)] for i in X[j]])\n",
    "    lam=np.array([[u]*5 for u in lamb ])\n",
    "    bet=np.array([[v]*5 for v in beta])\n",
    "    return h_tilde,bet,lam\n",
    "\n"
   ]
  },
  {
   "cell_type": "code",
   "execution_count": 28,
   "metadata": {},
   "outputs": [],
   "source": [
    "h_tilde,bet,lam=ParametersAmpli(S,0)"
   ]
  },
  {
   "cell_type": "code",
   "execution_count": 29,
   "metadata": {},
   "outputs": [
    {
     "data": {
      "text/plain": [
       "array([[[143.60419737,   0.        ,  -3.14159265],\n",
       "        [149.57273892,   0.        ,  -3.14159265],\n",
       "        [ 57.93428834,   0.        ,  -3.14159265],\n",
       "        [148.29735468,   0.        ,  -3.14159265],\n",
       "        [258.31520623,   0.        ,  -3.14159265]],\n",
       "\n",
       "       [[138.73221391,   0.        ,  -2.81089869],\n",
       "        [144.49826391,   0.        ,  -2.81089869],\n",
       "        [ 55.96878246,   0.        ,  -2.81089869],\n",
       "        [143.26614896,   0.        ,  -2.81089869],\n",
       "        [249.55148319,   0.        ,  -2.81089869]],\n",
       "\n",
       "       [[132.31043185,   0.        ,  -2.48020473],\n",
       "        [137.80957689,   0.        ,  -2.48020473],\n",
       "        [ 53.37804082,   0.        ,  -2.48020473],\n",
       "        [136.63449537,   0.        ,  -2.48020473],\n",
       "        [237.9999827 ,   0.        ,  -2.48020473]],\n",
       "\n",
       "       ...,\n",
       "\n",
       "       [[164.80394616,   1.57079633,   2.48020473],\n",
       "        [171.65360111,   1.57079633,   2.48020473],\n",
       "        [ 66.48690993,   1.57079633,   2.48020473],\n",
       "        [170.18993668,   1.57079633,   2.48020473],\n",
       "        [296.44931082,   1.57079633,   2.48020473]],\n",
       "\n",
       "       [[159.4136321 ,   1.57079633,   2.81089869],\n",
       "        [166.03925241,   1.57079633,   2.81089869],\n",
       "        [ 64.31229377,   1.57079633,   2.81089869],\n",
       "        [164.62346069,   1.57079633,   2.81089869],\n",
       "        [286.75321478,   1.57079633,   2.81089869]],\n",
       "\n",
       "       [[156.08155177,   1.57079633,   3.14159265],\n",
       "        [162.56868267,   1.57079633,   3.14159265],\n",
       "        [ 62.96803151,   1.57079633,   3.14159265],\n",
       "        [161.18248398,   1.57079633,   3.14159265],\n",
       "        [280.75946924,   1.57079633,   3.14159265]]])"
      ]
     },
     "execution_count": 29,
     "metadata": {},
     "output_type": "execute_result"
    }
   ],
   "source": [
    "final_params=np.asarray([[(i,j,k)for i,j,k in zip(h_tilde[:,n],bet[n,:],lam[n,:])] for n in range(nb_fo)])\n",
    "final_params"
   ]
  },
  {
   "cell_type": "code",
   "execution_count": 30,
   "metadata": {},
   "outputs": [
    {
     "data": {
      "text/plain": [
       "(400, 5, 3)"
      ]
     },
     "execution_count": 30,
     "metadata": {},
     "output_type": "execute_result"
    }
   ],
   "source": [
    "final_data=S_tilde\n",
    "final_params.shape"
   ]
  },
  {
   "cell_type": "code",
   "execution_count": null,
   "metadata": {},
   "outputs": [],
   "source": []
  }
 ],
 "metadata": {
  "kernelspec": {
   "display_name": "Python 3",
   "language": "python",
   "name": "python3"
  },
  "language_info": {
   "codemirror_mode": {
    "name": "ipython",
    "version": 3
   },
   "file_extension": ".py",
   "mimetype": "text/x-python",
   "name": "python",
   "nbconvert_exporter": "python",
   "pygments_lexer": "ipython3",
   "version": "3.8.5"
  },
  "toc": {
   "base_numbering": 1,
   "nav_menu": {},
   "number_sections": true,
   "sideBar": true,
   "skip_h1_title": false,
   "title_cell": "Table of Contents",
   "title_sidebar": "Contents",
   "toc_cell": false,
   "toc_position": {},
   "toc_section_display": true,
   "toc_window_display": false
  }
 },
 "nbformat": 4,
 "nbformat_minor": 2
}
