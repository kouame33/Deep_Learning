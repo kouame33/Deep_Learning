{
 "cells": [
  {
   "cell_type": "markdown",
   "metadata": {},
   "source": [
    "![ CEA LOGO]\n",
    "(\"https://fr.wikipedia.org/wiki/Fichier:CEA_logotype2012.png\")\n",
    "\n",
    "\n"
   ]
  },
  {
   "cell_type": "code",
   "execution_count": 1,
   "metadata": {},
   "outputs": [],
   "source": [
    "import numpy as np\n",
    "\n",
    "%matplotlib inline\n",
    "import matplotlib.pyplot as plt"
   ]
  },
  {
   "cell_type": "markdown",
   "metadata": {},
   "source": [
    "# Load data"
   ]
  },
  {
   "cell_type": "code",
   "execution_count": 2,
   "metadata": {},
   "outputs": [
    {
     "name": "stdout",
     "output_type": "stream",
     "text": [
      "['data', 'freq', 'params']\n"
     ]
    }
   ],
   "source": [
    "mydata = np.load('data_ML_Nfreq100_Nbeta20_Nlambda20.npz',allow_pickle=True)\n",
    "print(mydata.files)"
   ]
  },
  {
   "cell_type": "code",
   "execution_count": 3,
   "metadata": {},
   "outputs": [],
   "source": [
    "data = mydata['data']\n",
    "freq = mydata['freq']\n",
    "params = mydata['params']"
   ]
  },
  {
   "cell_type": "code",
   "execution_count": 4,
   "metadata": {},
   "outputs": [
    {
     "data": {
      "text/plain": [
       "(40000, 256)"
      ]
     },
     "execution_count": 4,
     "metadata": {},
     "output_type": "execute_result"
    }
   ],
   "source": [
    "freq.shape"
   ]
  },
  {
   "cell_type": "code",
   "execution_count": 5,
   "metadata": {},
   "outputs": [
    {
     "data": {
      "text/plain": [
       "(40000, 256, 3)"
      ]
     },
     "execution_count": 5,
     "metadata": {},
     "output_type": "execute_result"
    }
   ],
   "source": [
    "data.shape"
   ]
  },
  {
   "cell_type": "code",
   "execution_count": 6,
   "metadata": {},
   "outputs": [
    {
     "data": {
      "text/plain": [
       "(40000, 8)"
      ]
     },
     "execution_count": 6,
     "metadata": {},
     "output_type": "execute_result"
    }
   ],
   "source": [
    "params.shape"
   ]
  },
  {
   "cell_type": "markdown",
   "metadata": {},
   "source": [
    " ### For pre_processing we are going to use $data$ and $params$"
   ]
  },
  {
   "cell_type": "markdown",
   "metadata": {},
   "source": [
    "#  I. Using $data$ for pre_processing"
   ]
  },
  {
   "cell_type": "markdown",
   "metadata": {},
   "source": [
    "####  1. Same Interval\n",
    "\n",
    "- Nous avons 100 bandes de fréquences $B_i,\\forall i \\in \\overline{1,100}$ .\n",
    "- Chaque bande $B_i$ à chacune 256 fréquences avec une fréquence min et  max.\n",
    "- Dans chaque bande $B_i$ , nous avons 400 formes d'ondes donc un total de $N=40 000$ formes d'ondes\n",
    "  - l'objectif ici est de gérer le problème de chevrauchement entre bande. \n",
    "  - Il s'agit simplement d'observer les N formes d'ondes dans une seule $BT$ (bande Totale) "
   ]
  },
  {
   "cell_type": "code",
   "execution_count": 7,
   "metadata": {},
   "outputs": [],
   "source": [
    "\n",
    "fr=list(freq[0:40000,:])\n",
    "frT=np.asarray(fr)\n",
    "#frTB=frT.flatten()\n",
    "freqBT=np.sort(frT)\n",
    "freqBT_unique=np.unique(freqBT)\n",
    "\n",
    "S_real=np.zeros((40000,freqBT_unique.shape[0],3))\n",
    "S_imag=np.zeros((40000,freqBT_unique.shape[0],3))\n",
    "I=np.arange(0,40000,400)\n",
    "K=np.arange(256,freqBT_unique.shape[0])\n",
    "J=np.arange(freqBT_unique.shape[0]-256)\n",
    "for i,j,k in zip(I,J,K):\n",
    "    S_real[i:(i+400),j:k,:]=np.real(data[i:(i+400),:,:])\n",
    "    S_imag[i:(i+400),j:k,:]=np.imag(data[i:(i+400),:,:])\n"
   ]
  },
  {
   "cell_type": "code",
   "execution_count": 8,
   "metadata": {},
   "outputs": [
    {
     "data": {
      "text/plain": [
       "(2827,)"
      ]
     },
     "execution_count": 8,
     "metadata": {},
     "output_type": "execute_result"
    }
   ],
   "source": [
    "freqBT_unique.shape"
   ]
  },
  {
   "cell_type": "code",
   "execution_count": 9,
   "metadata": {},
   "outputs": [],
   "source": [
    "# mettre toutes les formes d'ondes  sur la même bande de fréquences\n",
    "def SameInt(S_real,S_imag):\n",
    "    return np.asarray([u+1j*v for u,v in zip(S_real,S_imag)])"
   ]
  },
  {
   "cell_type": "code",
   "execution_count": 10,
   "metadata": {},
   "outputs": [
    {
     "data": {
      "text/plain": [
       "(40000, 2827, 3)"
      ]
     },
     "execution_count": 10,
     "metadata": {},
     "output_type": "execute_result"
    }
   ],
   "source": [
    "S=SameInt(S_real[:,:,:],S_imag[:,:,:])\n",
    "S.shape"
   ]
  },
  {
   "cell_type": "code",
   "execution_count": 11,
   "metadata": {},
   "outputs": [
    {
     "data": {
      "text/plain": [
       "array([1.57502989e-26+6.94253168e-27j, 1.56673787e-26+7.13709609e-27j,\n",
       "       1.55844074e-26+7.33176966e-27j, ...,\n",
       "       0.00000000e+00+0.00000000e+00j, 0.00000000e+00+0.00000000e+00j,\n",
       "       0.00000000e+00+0.00000000e+00j])"
      ]
     },
     "execution_count": 11,
     "metadata": {},
     "output_type": "execute_result"
    }
   ],
   "source": [
    "# verification ( des zéros après la 256 ième fréquence pour FO 0)\n",
    "S[0,:,0]"
   ]
  },
  {
   "cell_type": "markdown",
   "metadata": {},
   "source": [
    "####  2. Normalisation\n",
    "\n",
    "- $ \\overline{S_i}=\\frac{S_i}{\\rVert S_i \\lVert_2},\\quad \\forall i \\in \\overline{0,40000}$"
   ]
  },
  {
   "cell_type": "code",
   "execution_count": 12,
   "metadata": {
    "scrolled": false
   },
   "outputs": [],
   "source": [
    "# cette fonction normalise seulement une forme d'onde pour un canal \"X\",\"Y\",\"Z\"\n",
    "def normalize(S,n,e):\n",
    "# n nombre de FO, e nombre de canal\n",
    "    \n",
    "    return np.asarray([S[n,i,e]/np.linalg.norm(S[n,:,e]) for i in range(S.shape[1])])\n",
    "\n",
    "# return un tableau contenant chaque forme d'onde normalisée"
   ]
  },
  {
   "cell_type": "code",
   "execution_count": 13,
   "metadata": {},
   "outputs": [
    {
     "data": {
      "text/plain": [
       "array([-0.0044968 -0.00040616j, -0.00448933-0.00046114j,\n",
       "       -0.00448187-0.00051608j, ...,  0.        +0.j        ,\n",
       "        0.        +0.j        ,  0.        +0.j        ])"
      ]
     },
     "execution_count": 13,
     "metadata": {},
     "output_type": "execute_result"
    }
   ],
   "source": [
    "S1=normalize(S,10,0)\n",
    "S1"
   ]
  },
  {
   "cell_type": "code",
   "execution_count": 14,
   "metadata": {},
   "outputs": [],
   "source": [
    "# cette fonction rassemble toutes les formes d'onde normalisée dans un seul tableau \n",
    "# n nombre de forme d'onde , e numéro du  canal (\"X\",\"Y\",\"Z\")\n",
    "def norm(S):\n",
    "    \n",
    "    return (np.asarray([[normalize(S,n,e) for e in range (3)] for n in range(400)])).reshape((-1,2827,3))\n",
    "# pour les n=400 premières formes d'ondes"
   ]
  },
  {
   "cell_type": "code",
   "execution_count": 15,
   "metadata": {},
   "outputs": [
    {
     "data": {
      "text/plain": [
       "array([0.0040876 +0.00180176j, 0.00402299+0.00195334j,\n",
       "       0.00395815+0.00210546j, ..., 0.        +0.j        ,\n",
       "       0.        +0.j        , 0.        +0.j        ])"
      ]
     },
     "execution_count": 15,
     "metadata": {},
     "output_type": "execute_result"
    }
   ],
   "source": [
    "S_bar=norm(S)\n",
    "S_bar[0,:,0]"
   ]
  },
  {
   "cell_type": "code",
   "execution_count": 16,
   "metadata": {},
   "outputs": [
    {
     "data": {
      "text/plain": [
       "(400, 2827, 3)"
      ]
     },
     "execution_count": 16,
     "metadata": {},
     "output_type": "execute_result"
    }
   ],
   "source": [
    "S_bar.shape"
   ]
  },
  {
   "cell_type": "markdown",
   "metadata": {},
   "source": [
    "####  3. Génération de v.a uniforme \n",
    "\n",
    "- $ \\tilde{S_{i,k}}= \\mathrm{X}_k \\times \\overline{S_i},\\quad \\forall i \\in [0,1,...,40000] ,\\quad k \\in \\overline{0,5}\\quad avec \\quad \\mathrm{X}_k \\to \\cup(1,10)$"
   ]
  },
  {
   "cell_type": "code",
   "execution_count": 31,
   "metadata": {},
   "outputs": [
    {
     "ename": "TypeError",
     "evalue": "list indices must be integers or slices, not tuple",
     "output_type": "error",
     "traceback": [
      "\u001b[0;31m---------------------------------------------------------------------------\u001b[0m",
      "\u001b[0;31mTypeError\u001b[0m                                 Traceback (most recent call last)",
      "\u001b[0;32m<ipython-input-31-3a13a9687c90>\u001b[0m in \u001b[0;36m<module>\u001b[0;34m\u001b[0m\n\u001b[1;32m      3\u001b[0m \u001b[0mnb_fo\u001b[0m\u001b[0;34m=\u001b[0m\u001b[0;36m400\u001b[0m \u001b[0;31m# nombre de FO utilisable pour l'apprentissage du réseau de neurones (400)\u001b[0m\u001b[0;34m\u001b[0m\u001b[0;34m\u001b[0m\u001b[0m\n\u001b[1;32m      4\u001b[0m \u001b[0mX\u001b[0m\u001b[0;34m=\u001b[0m\u001b[0;34m[\u001b[0m\u001b[0mnp\u001b[0m\u001b[0;34m.\u001b[0m\u001b[0mrandom\u001b[0m\u001b[0;34m.\u001b[0m\u001b[0muniform\u001b[0m\u001b[0;34m(\u001b[0m\u001b[0;36m1\u001b[0m\u001b[0;34m,\u001b[0m\u001b[0;36m10\u001b[0m\u001b[0;34m,\u001b[0m\u001b[0;36m5\u001b[0m\u001b[0;34m)\u001b[0m \u001b[0;32mfor\u001b[0m \u001b[0m_\u001b[0m \u001b[0;32min\u001b[0m \u001b[0mrange\u001b[0m\u001b[0;34m(\u001b[0m\u001b[0mnb_fo\u001b[0m\u001b[0;34m)\u001b[0m\u001b[0;34m]\u001b[0m\u001b[0;34m\u001b[0m\u001b[0;34m\u001b[0m\u001b[0m\n\u001b[0;32m----> 5\u001b[0;31m \u001b[0mX\u001b[0m\u001b[0;34m[\u001b[0m\u001b[0;34m:\u001b[0m\u001b[0;36m10\u001b[0m\u001b[0;34m,\u001b[0m\u001b[0;34m:\u001b[0m\u001b[0;34m]\u001b[0m\u001b[0;34m\u001b[0m\u001b[0;34m\u001b[0m\u001b[0m\n\u001b[0m",
      "\u001b[0;31mTypeError\u001b[0m: list indices must be integers or slices, not tuple"
     ]
    }
   ],
   "source": [
    "# génération de 5 valeurs de loi uniforme\n",
    "#np.random.seed(0)\n",
    "nb_fo=400 # nombre de FO utilisable pour l'apprentissage du réseau de neurones (400)\n",
    "X=[np.random.uniform(1,10,5) for _ in range(nb_fo)]\n",
    "X[:10,:]"
   ]
  },
  {
   "cell_type": "code",
   "execution_count": 18,
   "metadata": {},
   "outputs": [],
   "source": [
    "# multiplication de X par chaque FO\n",
    "def amplitude(S,n):\n",
    "    \n",
    "    return np.asarray([S[n,:,:]*i for i in X[n]])"
   ]
  },
  {
   "cell_type": "code",
   "execution_count": 19,
   "metadata": {},
   "outputs": [],
   "source": [
    "# cette fonction retourne les 5 amplitudes différentes de chaque FO\n",
    "def amp(S):\n",
    "     \n",
    "    return (np.asarray([amplitude(S,n) for n in range(nb_fo)])).reshape((5,-1,2827,3))\n",
    "# chaque FO retourne 5 sous formes d'onde d'amplitude différentes chacune ayant 2827 fréquences \n",
    "\n"
   ]
  },
  {
   "cell_type": "code",
   "execution_count": 20,
   "metadata": {},
   "outputs": [],
   "source": [
    "S_tilde=amp(S_bar)"
   ]
  },
  {
   "cell_type": "code",
   "execution_count": 21,
   "metadata": {},
   "outputs": [
    {
     "data": {
      "text/plain": [
       "array([[ 0.03061405+0.01349429j,  0.03013019+0.01462957j,\n",
       "         0.02964455+0.01576883j, ...,  0.        +0.j        ,\n",
       "         0.        +0.j        ,  0.        +0.j        ],\n",
       "       [ 0.01209264+0.00856789j,  0.01178118+0.00901711j,\n",
       "         0.01146864+0.00946782j, ...,  0.        +0.j        ,\n",
       "         0.        +0.j        ,  0.        +0.j        ],\n",
       "       [ 0.00800178+0.02548112j,  0.0070644 +0.02578354j,\n",
       "         0.006124  +0.02608688j, ...,  0.        +0.j        ,\n",
       "         0.        +0.j        ,  0.        +0.j        ],\n",
       "       [-0.00945037+0.00725571j, -0.00971962+0.00690862j,\n",
       "        -0.00998966+0.00656047j, ...,  0.        +0.j        ,\n",
       "         0.        +0.j        ,  0.        +0.j        ],\n",
       "       [-0.00140196-0.04225543j,  0.00015515-0.04230941j,\n",
       "         0.00171658-0.0423635j , ...,  0.        +0.j        ,\n",
       "         0.        +0.j        ,  0.        +0.j        ]])"
      ]
     },
     "execution_count": 21,
     "metadata": {},
     "output_type": "execute_result"
    }
   ],
   "source": [
    "S_tilde[:,0,:,0]"
   ]
  },
  {
   "cell_type": "code",
   "execution_count": 22,
   "metadata": {},
   "outputs": [
    {
     "data": {
      "text/plain": [
       "(5, 400, 2827, 3)"
      ]
     },
     "execution_count": 22,
     "metadata": {},
     "output_type": "execute_result"
    }
   ],
   "source": [
    "S_tilde.shape"
   ]
  },
  {
   "cell_type": "markdown",
   "metadata": {},
   "source": [
    "#  II. Using $params $ for pre_processing"
   ]
  },
  {
   "cell_type": "markdown",
   "metadata": {},
   "source": [
    "#### 1.Parameters used for learning\n",
    "\n",
    "-  Amplitude $h_0$\n",
    "-  Latitude Ecliptic $\\beta$\n",
    "-  Ecliptic Longitude $\\lambda$"
   ]
  },
  {
   "cell_type": "code",
   "execution_count": 23,
   "metadata": {},
   "outputs": [
    {
     "data": {
      "text/plain": [
       "array([[ 1.00000000e-22,  0.00000000e+00, -3.14159265e+00],\n",
       "       [ 1.00000000e-22,  0.00000000e+00, -2.81089869e+00],\n",
       "       [ 1.00000000e-22,  0.00000000e+00, -2.48020473e+00],\n",
       "       ...,\n",
       "       [ 1.00000000e-22,  1.57079633e+00,  2.48020473e+00],\n",
       "       [ 1.00000000e-22,  1.57079633e+00,  2.81089869e+00],\n",
       "       [ 1.00000000e-22,  1.57079633e+00,  3.14159265e+00]])"
      ]
     },
     "execution_count": 23,
     "metadata": {},
     "output_type": "execute_result"
    }
   ],
   "source": [
    "amplitude=params[:,0] # amplitude\n",
    "beta=params[:,6] # bêta\n",
    "lamb=params[:,7] # lambda\n",
    "#parameters=[]\n",
    "#zz=np.concatenate((amplitude[0:2],beta[0:2]))\n",
    "parameters=np.asarray([(i,j,k)for i,j,k in zip(amplitude,beta,lamb)] )\n",
    "\n",
    "parameters\n"
   ]
  },
  {
   "cell_type": "code",
   "execution_count": 24,
   "metadata": {},
   "outputs": [
    {
     "data": {
      "text/plain": [
       "(40000, 3)"
      ]
     },
     "execution_count": 24,
     "metadata": {},
     "output_type": "execute_result"
    }
   ],
   "source": [
    "parameters.shape"
   ]
  },
  {
   "cell_type": "markdown",
   "metadata": {},
   "source": [
    " -  $ \\overline{h}=[h_i]=\\frac{h_0}{\\rVert S_i \\lVert_2},\\forall i \\quad\\text{allant de 0 à nb_fo}$\n",
    "\n",
    " -  $\\tilde{h}=[h_i]\\times\\mathrm{X}_j ,\\forall i \\in  \\overline{0,nb}\\quad et\\quad j \\in\\overline{0,5}\\quad avec \\quad  \\mathrm{X} \\to \\cup(1,10) $"
   ]
  },
  {
   "cell_type": "code",
   "execution_count": 27,
   "metadata": {},
   "outputs": [],
   "source": [
    "def ParametersAmpli(S,c): # c canal utilisé\n",
    "    h_bar=[parameters[i,0]/np.linalg.norm(S[i,:,c]) for i in range(nb_fo)]\n",
    "    h_tilde=np.asarray([[h_bar[j]*i for j in range(nb_fo)] for i in X[j]])\n",
    "    lam=np.array([[u]*5 for u in lamb ])\n",
    "    bet=np.array([[v]*5 for v in beta])\n",
    "    return h_tilde,bet,lam\n",
    "\n"
   ]
  },
  {
   "cell_type": "code",
   "execution_count": 28,
   "metadata": {},
   "outputs": [],
   "source": [
    "h_tilde,bet,lam=ParametersAmpli(S,0)"
   ]
  },
  {
   "cell_type": "code",
   "execution_count": 29,
   "metadata": {},
   "outputs": [
    {
     "data": {
      "text/plain": [
       "array([[[143.60419737,   0.        ,  -3.14159265],\n",
       "        [149.57273892,   0.        ,  -3.14159265],\n",
       "        [ 57.93428834,   0.        ,  -3.14159265],\n",
       "        [148.29735468,   0.        ,  -3.14159265],\n",
       "        [258.31520623,   0.        ,  -3.14159265]],\n",
       "\n",
       "       [[138.73221391,   0.        ,  -2.81089869],\n",
       "        [144.49826391,   0.        ,  -2.81089869],\n",
       "        [ 55.96878246,   0.        ,  -2.81089869],\n",
       "        [143.26614896,   0.        ,  -2.81089869],\n",
       "        [249.55148319,   0.        ,  -2.81089869]],\n",
       "\n",
       "       [[132.31043185,   0.        ,  -2.48020473],\n",
       "        [137.80957689,   0.        ,  -2.48020473],\n",
       "        [ 53.37804082,   0.        ,  -2.48020473],\n",
       "        [136.63449537,   0.        ,  -2.48020473],\n",
       "        [237.9999827 ,   0.        ,  -2.48020473]],\n",
       "\n",
       "       ...,\n",
       "\n",
       "       [[164.80394616,   1.57079633,   2.48020473],\n",
       "        [171.65360111,   1.57079633,   2.48020473],\n",
       "        [ 66.48690993,   1.57079633,   2.48020473],\n",
       "        [170.18993668,   1.57079633,   2.48020473],\n",
       "        [296.44931082,   1.57079633,   2.48020473]],\n",
       "\n",
       "       [[159.4136321 ,   1.57079633,   2.81089869],\n",
       "        [166.03925241,   1.57079633,   2.81089869],\n",
       "        [ 64.31229377,   1.57079633,   2.81089869],\n",
       "        [164.62346069,   1.57079633,   2.81089869],\n",
       "        [286.75321478,   1.57079633,   2.81089869]],\n",
       "\n",
       "       [[156.08155177,   1.57079633,   3.14159265],\n",
       "        [162.56868267,   1.57079633,   3.14159265],\n",
       "        [ 62.96803151,   1.57079633,   3.14159265],\n",
       "        [161.18248398,   1.57079633,   3.14159265],\n",
       "        [280.75946924,   1.57079633,   3.14159265]]])"
      ]
     },
     "execution_count": 29,
     "metadata": {},
     "output_type": "execute_result"
    }
   ],
   "source": [
    "final_params=np.asarray([[(i,j,k)for i,j,k in zip(h_tilde[:,n],bet[n,:],lam[n,:])] for n in range(nb_fo)])\n",
    "final_params"
   ]
  },
  {
   "cell_type": "code",
   "execution_count": 30,
   "metadata": {},
   "outputs": [
    {
     "data": {
      "text/plain": [
       "(400, 5, 3)"
      ]
     },
     "execution_count": 30,
     "metadata": {},
     "output_type": "execute_result"
    }
   ],
   "source": [
    "final_data=S_tilde\n",
    "final_params.shape"
   ]
  },
  {
   "cell_type": "code",
   "execution_count": null,
   "metadata": {},
   "outputs": [],
   "source": []
  }
 ],
 "metadata": {
  "kernelspec": {
   "display_name": "Python 3",
   "language": "python",
   "name": "python3"
  },
  "language_info": {
   "codemirror_mode": {
    "name": "ipython",
    "version": 3
   },
   "file_extension": ".py",
   "mimetype": "text/x-python",
   "name": "python",
   "nbconvert_exporter": "python",
   "pygments_lexer": "ipython3",
   "version": "3.8.5"
  },
  "toc": {
   "base_numbering": 1,
   "nav_menu": {},
   "number_sections": true,
   "sideBar": true,
   "skip_h1_title": false,
   "title_cell": "Table of Contents",
   "title_sidebar": "Contents",
   "toc_cell": false,
   "toc_position": {},
   "toc_section_display": true,
   "toc_window_display": false
  }
 },
 "nbformat": 4,
 "nbformat_minor": 2
}
